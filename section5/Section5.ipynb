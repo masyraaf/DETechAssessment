{
 "cells": [
  {
   "cell_type": "code",
   "execution_count": 350,
   "id": "08262456",
   "metadata": {},
   "outputs": [],
   "source": [
    "import pandas as pd\n",
    "import numpy as np\n",
    "from sklearn.model_selection import train_test_split\n",
    "from sklearn.ensemble import RandomForestClassifier\n",
    "from sklearn.tree import DecisionTreeClassifier\n",
    "from sklearn.tree import plot_tree\n",
    "from sklearn.metrics import accuracy_score\n",
    "import seaborn as sns\n",
    "import matplotlib.pyplot as plt\n",
    "from scipy.stats import chi2_contingency"
   ]
  },
  {
   "cell_type": "code",
   "execution_count": 351,
   "id": "055e49b3",
   "metadata": {},
   "outputs": [],
   "source": [
    "url = 'https://archive.ics.uci.edu/ml/machine-learning-databases/car/car.data'\n",
    "columns = ['buying', 'maint', 'doors', 'lug_boot', 'safety', 'class']\n",
    "df = pd.read_csv(url, header=None, names=columns)"
   ]
  },
  {
   "cell_type": "code",
   "execution_count": 352,
   "id": "23ed3132",
   "metadata": {},
   "outputs": [
    {
     "name": "stdout",
     "output_type": "stream",
     "text": [
      "<class 'pandas.core.frame.DataFrame'>\n",
      "Index: 1728 entries, vhigh to low\n",
      "Data columns (total 6 columns):\n",
      " #   Column    Non-Null Count  Dtype \n",
      "---  ------    --------------  ----- \n",
      " 0   buying    1728 non-null   object\n",
      " 1   maint     1728 non-null   object\n",
      " 2   doors     1728 non-null   object\n",
      " 3   lug_boot  1728 non-null   object\n",
      " 4   safety    1728 non-null   object\n",
      " 5   class     1728 non-null   object\n",
      "dtypes: object(6)\n",
      "memory usage: 94.5+ KB\n"
     ]
    }
   ],
   "source": [
    "df.info()"
   ]
  },
  {
   "cell_type": "code",
   "execution_count": 353,
   "id": "af7d6aaa",
   "metadata": {},
   "outputs": [
    {
     "data": {
      "text/plain": [
       "buying      0\n",
       "maint       0\n",
       "doors       0\n",
       "lug_boot    0\n",
       "safety      0\n",
       "class       0\n",
       "dtype: int64"
      ]
     },
     "execution_count": 353,
     "metadata": {},
     "output_type": "execute_result"
    }
   ],
   "source": [
    "# Check for missing values\n",
    "df.isnull().sum()"
   ]
  },
  {
   "cell_type": "code",
   "execution_count": 354,
   "id": "19570ce1",
   "metadata": {},
   "outputs": [
    {
     "data": {
      "text/plain": [
       "1109"
      ]
     },
     "execution_count": 354,
     "metadata": {},
     "output_type": "execute_result"
    }
   ],
   "source": [
    "# Check for duplicates\n",
    "df.duplicated().sum()"
   ]
  },
  {
   "cell_type": "code",
   "execution_count": 355,
   "id": "915b9942",
   "metadata": {},
   "outputs": [
    {
     "name": "stdout",
     "output_type": "stream",
     "text": [
      "    class buying  count\n",
      "0     acc   high    105\n",
      "1     acc    low     92\n",
      "2     acc    med    115\n",
      "3     acc  vhigh     72\n",
      "4    good    low     46\n",
      "5    good    med     23\n",
      "6   unacc   high    314\n",
      "7   unacc    low    268\n",
      "8   unacc    med    268\n",
      "9   unacc  vhigh    360\n",
      "10  vgood   high     13\n",
      "11  vgood    low     26\n",
      "12  vgood    med     26\n"
     ]
    }
   ],
   "source": [
    "# Group the data by the buying and class variables\n",
    "grouped = df.groupby([\"class\", \"buying\"])\n",
    "\n",
    "# Compute the size of each group and convert to a DataFrame\n",
    "counts = grouped.size().reset_index(name=\"count\")\n",
    "\n",
    "# Print the results\n",
    "print(counts)\n",
    "\n",
    "# vgood - low\n",
    "# good - low\n",
    "# acc - med\n",
    "# unacc - high"
   ]
  },
  {
   "cell_type": "code",
   "execution_count": 356,
   "id": "6dff9980",
   "metadata": {},
   "outputs": [],
   "source": [
    "# Replace incorrect values with correct values\n",
    "df['doors'].replace({'more': 5}, inplace=True)"
   ]
  },
  {
   "cell_type": "code",
   "execution_count": 357,
   "id": "04b1876d",
   "metadata": {},
   "outputs": [
    {
     "data": {
      "text/html": [
       "<div>\n",
       "<style scoped>\n",
       "    .dataframe tbody tr th:only-of-type {\n",
       "        vertical-align: middle;\n",
       "    }\n",
       "\n",
       "    .dataframe tbody tr th {\n",
       "        vertical-align: top;\n",
       "    }\n",
       "\n",
       "    .dataframe thead th {\n",
       "        text-align: right;\n",
       "    }\n",
       "</style>\n",
       "<table border=\"1\" class=\"dataframe\">\n",
       "  <thead>\n",
       "    <tr style=\"text-align: right;\">\n",
       "      <th></th>\n",
       "      <th>buying</th>\n",
       "      <th>maint</th>\n",
       "      <th>doors</th>\n",
       "      <th>lug_boot</th>\n",
       "      <th>safety</th>\n",
       "      <th>class</th>\n",
       "    </tr>\n",
       "  </thead>\n",
       "  <tbody>\n",
       "    <tr>\n",
       "      <th>vhigh</th>\n",
       "      <td>vhigh</td>\n",
       "      <td>2</td>\n",
       "      <td>2</td>\n",
       "      <td>small</td>\n",
       "      <td>low</td>\n",
       "      <td>unacc</td>\n",
       "    </tr>\n",
       "    <tr>\n",
       "      <th>vhigh</th>\n",
       "      <td>vhigh</td>\n",
       "      <td>2</td>\n",
       "      <td>2</td>\n",
       "      <td>small</td>\n",
       "      <td>med</td>\n",
       "      <td>unacc</td>\n",
       "    </tr>\n",
       "    <tr>\n",
       "      <th>vhigh</th>\n",
       "      <td>vhigh</td>\n",
       "      <td>2</td>\n",
       "      <td>2</td>\n",
       "      <td>small</td>\n",
       "      <td>high</td>\n",
       "      <td>unacc</td>\n",
       "    </tr>\n",
       "    <tr>\n",
       "      <th>vhigh</th>\n",
       "      <td>vhigh</td>\n",
       "      <td>2</td>\n",
       "      <td>2</td>\n",
       "      <td>med</td>\n",
       "      <td>low</td>\n",
       "      <td>unacc</td>\n",
       "    </tr>\n",
       "    <tr>\n",
       "      <th>vhigh</th>\n",
       "      <td>vhigh</td>\n",
       "      <td>2</td>\n",
       "      <td>2</td>\n",
       "      <td>med</td>\n",
       "      <td>med</td>\n",
       "      <td>unacc</td>\n",
       "    </tr>\n",
       "    <tr>\n",
       "      <th>...</th>\n",
       "      <td>...</td>\n",
       "      <td>...</td>\n",
       "      <td>...</td>\n",
       "      <td>...</td>\n",
       "      <td>...</td>\n",
       "      <td>...</td>\n",
       "    </tr>\n",
       "    <tr>\n",
       "      <th>low</th>\n",
       "      <td>low</td>\n",
       "      <td>5more</td>\n",
       "      <td>5</td>\n",
       "      <td>med</td>\n",
       "      <td>med</td>\n",
       "      <td>good</td>\n",
       "    </tr>\n",
       "    <tr>\n",
       "      <th>low</th>\n",
       "      <td>low</td>\n",
       "      <td>5more</td>\n",
       "      <td>5</td>\n",
       "      <td>med</td>\n",
       "      <td>high</td>\n",
       "      <td>vgood</td>\n",
       "    </tr>\n",
       "    <tr>\n",
       "      <th>low</th>\n",
       "      <td>low</td>\n",
       "      <td>5more</td>\n",
       "      <td>5</td>\n",
       "      <td>big</td>\n",
       "      <td>low</td>\n",
       "      <td>unacc</td>\n",
       "    </tr>\n",
       "    <tr>\n",
       "      <th>low</th>\n",
       "      <td>low</td>\n",
       "      <td>5more</td>\n",
       "      <td>5</td>\n",
       "      <td>big</td>\n",
       "      <td>med</td>\n",
       "      <td>good</td>\n",
       "    </tr>\n",
       "    <tr>\n",
       "      <th>low</th>\n",
       "      <td>low</td>\n",
       "      <td>5more</td>\n",
       "      <td>5</td>\n",
       "      <td>big</td>\n",
       "      <td>high</td>\n",
       "      <td>vgood</td>\n",
       "    </tr>\n",
       "  </tbody>\n",
       "</table>\n",
       "<p>1728 rows × 6 columns</p>\n",
       "</div>"
      ],
      "text/plain": [
       "      buying  maint doors lug_boot safety  class\n",
       "vhigh  vhigh      2     2    small    low  unacc\n",
       "vhigh  vhigh      2     2    small    med  unacc\n",
       "vhigh  vhigh      2     2    small   high  unacc\n",
       "vhigh  vhigh      2     2      med    low  unacc\n",
       "vhigh  vhigh      2     2      med    med  unacc\n",
       "...      ...    ...   ...      ...    ...    ...\n",
       "low      low  5more     5      med    med   good\n",
       "low      low  5more     5      med   high  vgood\n",
       "low      low  5more     5      big    low  unacc\n",
       "low      low  5more     5      big    med   good\n",
       "low      low  5more     5      big   high  vgood\n",
       "\n",
       "[1728 rows x 6 columns]"
      ]
     },
     "execution_count": 357,
     "metadata": {},
     "output_type": "execute_result"
    }
   ],
   "source": [
    "df"
   ]
  },
  {
   "cell_type": "code",
   "execution_count": 358,
   "id": "c7218440",
   "metadata": {},
   "outputs": [
    {
     "name": "stdout",
     "output_type": "stream",
     "text": [
      "buying\n",
      "vhigh    432\n",
      "high     432\n",
      "med      432\n",
      "low      432\n",
      "Name: count, dtype: int64\n",
      "maint\n",
      "2        432\n",
      "3        432\n",
      "4        432\n",
      "5more    432\n",
      "Name: count, dtype: int64\n",
      "doors\n",
      "2    576\n",
      "4    576\n",
      "5    576\n",
      "Name: count, dtype: int64\n",
      "lug_boot\n",
      "small    576\n",
      "med      576\n",
      "big      576\n",
      "Name: count, dtype: int64\n",
      "safety\n",
      "low     576\n",
      "med     576\n",
      "high    576\n",
      "Name: count, dtype: int64\n",
      "class\n",
      "unacc    1210\n",
      "acc       384\n",
      "good       69\n",
      "vgood      65\n",
      "Name: count, dtype: int64\n"
     ]
    }
   ],
   "source": [
    "# Check for incorrect values - the different values and requency\n",
    "for x in df.columns:     \n",
    "    print(df[x].value_counts()) "
   ]
  },
  {
   "cell_type": "code",
   "execution_count": 254,
   "id": "b6234140",
   "metadata": {},
   "outputs": [
    {
     "data": {
      "image/png": "[encoded data removed]",
      "text/plain": [
       "<Figure size 432x288 with 1 Axes>"
      ]
     },
     "metadata": {
      "needs_background": "light"
     },
     "output_type": "display_data"
    },
    {
     "data": {
      "image/png": "[encoded data removed]",
      "text/plain": [
       "<Figure size 432x288 with 1 Axes>"
      ]
     },
     "metadata": {
      "needs_background": "light"
     },
     "output_type": "display_data"
    },
    {
     "data": {
      "image/png": "[encoded data removed]",
      "text/plain": [
       "<Figure size 432x288 with 1 Axes>"
      ]
     },
     "metadata": {
      "needs_background": "light"
     },
     "output_type": "display_data"
    },
    {
     "data": {
      "image/png": "[encoded data removed]",
      "text/plain": [
       "<Figure size 432x288 with 1 Axes>"
      ]
     },
     "metadata": {
      "needs_background": "light"
     },
     "output_type": "display_data"
    },
    {
     "data": {
      "image/png": "[encoded data removed]",
      "text/plain": [
       "<Figure size 432x288 with 1 Axes>"
      ]
     },
     "metadata": {
      "needs_background": "light"
     },
     "output_type": "display_data"
    },
    {
     "data": {
      "image/png": "[encoded data removed]",
      "text/plain": [
       "<Figure size 432x288 with 1 Axes>"
      ]
     },
     "metadata": {
      "needs_background": "light"
     },
     "output_type": "display_data"
    }
   ],
   "source": [
    "# plot the graphs to see the distribution\n",
    "for col in df.columns:  \n",
    "    sns.countplot(data=df,x ='class', hue = col)\n",
    "    plt.xlabel('class values')\n",
    "    plt.ylabel('Counts')\n",
    "    plt.show()"
   ]
  },
  {
   "cell_type": "code",
   "execution_count": 359,
   "id": "2ac12d22",
   "metadata": {},
   "outputs": [],
   "source": [
    "# Convert categorical variables to numerical values\n",
    "# df['buying'] = df['buying'].astype('category').cat.codes\n",
    "# df['class'] = df['class'].astype('category').cat.codes\n",
    "df['maint']=df['maint'].astype('category').cat.codes\n",
    "df['lug_boot']=df['lug_boot'].astype('category').cat.codes\n",
    "df['safety']=df['safety'].astype('category').cat.codes"
   ]
  },
  {
   "cell_type": "code",
   "execution_count": 361,
   "id": "59e26837",
   "metadata": {},
   "outputs": [],
   "source": [
    "X = df.drop(['buying', 'class'], axis=1) # drop the target classes\n",
    "y = df[['class']] # target variable\n",
    "\n",
    "X_train, X_test, y_train, y_test = train_test_split(X, y, test_size=0.2, random_state=42)"
   ]
  },
  {
   "cell_type": "code",
   "execution_count": 362,
   "id": "1bbbb506",
   "metadata": {},
   "outputs": [
    {
     "data": {
      "text/plain": [
       "RandomForestClassifier(random_state=42)"
      ]
     },
     "execution_count": 362,
     "metadata": {},
     "output_type": "execute_result"
    }
   ],
   "source": [
    "rf = RandomForestClassifier(n_estimators=100, random_state=42)\n",
    "rf.fit(X_train, y_train.values.ravel()) # use .ravel() to convert y_train to a 1D array"
   ]
  },
  {
   "cell_type": "code",
   "execution_count": 363,
   "id": "cc31808c",
   "metadata": {},
   "outputs": [
    {
     "data": {
      "text/plain": [
       "0.7947976878612717"
      ]
     },
     "execution_count": 363,
     "metadata": {},
     "output_type": "execute_result"
    }
   ],
   "source": [
    "y_pred = rf.predict(X_test)\n",
    "accuracy_score(y_test, y_pred)"
   ]
  },
  {
   "cell_type": "code",
   "execution_count": 364,
   "id": "d1f6748f",
   "metadata": {},
   "outputs": [
    {
     "name": "stdout",
     "output_type": "stream",
     "text": [
      "['acc']\n"
     ]
    }
   ],
   "source": [
    "prediction = rf.predict(new_data)\n",
    "print(prediction) # this will output the predicted class value for the specified parameters"
   ]
  },
  {
   "cell_type": "code",
   "execution_count": 365,
   "id": "9116f75d",
   "metadata": {},
   "outputs": [],
   "source": [
    "# Define a function to compute the most likely buying value given a predicted class\n",
    "def predict_buying(pred_class, given_class, car_data):\n",
    "    # Compute the group counts of buying for each class\n",
    "    class_counts = car_data.groupby([\"class\", \"buying\"]).size().unstack(fill_value=0)\n",
    "\n",
    "    # Compute the total counts of buying for each class\n",
    "    class_totals = class_counts.sum(axis=1)\n",
    "\n",
    "    # Compute the most likely buying value for the predicted class\n",
    "    pred_counts = class_counts.loc[pred_class]\n",
    "    pred_total = class_totals.loc[pred_class]\n",
    "    pred_probs = pred_counts / pred_total\n",
    "    pred_buying = pred_probs.idxmax()\n",
    "\n",
    "    # Compute the most likely buying value for the given class\n",
    "    given_counts = class_counts.loc[given_class]\n",
    "    given_total = class_totals.loc[given_class]\n",
    "    given_probs = given_counts / given_total\n",
    "    given_buying = given_probs.idxmax()\n",
    "\n",
    "    # Compute the weighted average of the predicted and given buying values\n",
    "    new_counts = given_counts + pred_counts\n",
    "    new_buying = new_counts.idxmax()\n",
    "\n",
    "    return new_buying"
   ]
  },
  {
   "cell_type": "code",
   "execution_count": 366,
   "id": "6b510914",
   "metadata": {},
   "outputs": [
    {
     "name": "stdout",
     "output_type": "stream",
     "text": [
      "Predicted buying value: low\n"
     ]
    }
   ],
   "source": [
    "# Test the function with the example given in the question\n",
    "pred_class = \"acc\"\n",
    "given_class = \"good\"\n",
    "predicted_buying = predict_buying(pred_class, given_class, df)\n",
    "print(\"Predicted buying value:\", predicted_buying)"
   ]
  },
  {
   "cell_type": "code",
   "execution_count": null,
   "id": "2466d675",
   "metadata": {},
   "outputs": [],
   "source": []
  }
 ],
 "metadata": {
  "kernelspec": {
   "display_name": "Python 3 (ipykernel)",
   "language": "python",
   "name": "python3"
  },
  "language_info": {
   "codemirror_mode": {
    "name": "ipython",
    "version": 3
   },
   "file_extension": ".py",
   "mimetype": "text/x-python",
   "name": "python",
   "nbconvert_exporter": "python",
   "pygments_lexer": "ipython3",
   "version": "3.9.12"
  }
 },
 "nbformat": 4,
 "nbformat_minor": 5
}
