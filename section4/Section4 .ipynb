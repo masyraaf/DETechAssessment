{
 "cells": [
  {
   "cell_type": "code",
   "execution_count": 1,
   "id": "2f6a8c43",
   "metadata": {},
   "outputs": [],
   "source": [
    "import requests \n",
    "import pandas as pd\n",
    "import matplotlib.pyplot as plt"
   ]
  },
  {
   "cell_type": "code",
   "execution_count": 2,
   "id": "fb36b6cc",
   "metadata": {},
   "outputs": [],
   "source": [
    "# Set the API endpoint URL\n",
    "url = \"https://api.covid19api.com/total/dayone/country/singapore\""
   ]
  },
  {
   "cell_type": "code",
   "execution_count": 3,
   "id": "14ece4d5",
   "metadata": {},
   "outputs": [],
   "source": [
    "# Make the API request and store the response\n",
    "response = requests.get(url)\n",
    "\n",
    "# Convert the response JSON data to a pandas DataFrame\n",
    "df = pd.json_normalize(response.json())"
   ]
  },
  {
   "cell_type": "code",
   "execution_count": 4,
   "id": "15764b1f",
   "metadata": {},
   "outputs": [],
   "source": [
    "# Extract the relevant columns from the DataFrame\n",
    "df = df[[\"Confirmed\", \"Deaths\", \"Recovered\", \"Date\"]]"
   ]
  },
  {
   "cell_type": "code",
   "execution_count": 15,
   "id": "a07ede0e",
   "metadata": {},
   "outputs": [
    {
     "data": {
      "text/html": [
       "<div>\n",
       "<style scoped>\n",
       "    .dataframe tbody tr th:only-of-type {\n",
       "        vertical-align: middle;\n",
       "    }\n",
       "\n",
       "    .dataframe tbody tr th {\n",
       "        vertical-align: top;\n",
       "    }\n",
       "\n",
       "    .dataframe thead th {\n",
       "        text-align: right;\n",
       "    }\n",
       "</style>\n",
       "<table border=\"1\" class=\"dataframe\">\n",
       "  <thead>\n",
       "    <tr style=\"text-align: right;\">\n",
       "      <th></th>\n",
       "      <th>Date</th>\n",
       "      <th>Confirmed</th>\n",
       "      <th>Deaths</th>\n",
       "      <th>Recovered</th>\n",
       "    </tr>\n",
       "  </thead>\n",
       "  <tbody>\n",
       "    <tr>\n",
       "      <th>1137</th>\n",
       "      <td>2023-03-05</td>\n",
       "      <td>2230868</td>\n",
       "      <td>1722</td>\n",
       "      <td>0</td>\n",
       "    </tr>\n",
       "    <tr>\n",
       "      <th>1138</th>\n",
       "      <td>2023-03-06</td>\n",
       "      <td>2230868</td>\n",
       "      <td>1722</td>\n",
       "      <td>0</td>\n",
       "    </tr>\n",
       "    <tr>\n",
       "      <th>1139</th>\n",
       "      <td>2023-03-07</td>\n",
       "      <td>2230868</td>\n",
       "      <td>1722</td>\n",
       "      <td>0</td>\n",
       "    </tr>\n",
       "    <tr>\n",
       "      <th>1140</th>\n",
       "      <td>2023-03-08</td>\n",
       "      <td>2235294</td>\n",
       "      <td>1722</td>\n",
       "      <td>0</td>\n",
       "    </tr>\n",
       "    <tr>\n",
       "      <th>1141</th>\n",
       "      <td>2023-03-09</td>\n",
       "      <td>2235294</td>\n",
       "      <td>1722</td>\n",
       "      <td>0</td>\n",
       "    </tr>\n",
       "  </tbody>\n",
       "</table>\n",
       "</div>"
      ],
      "text/plain": [
       "            Date  Confirmed  Deaths  Recovered\n",
       "1137  2023-03-05    2230868    1722          0\n",
       "1138  2023-03-06    2230868    1722          0\n",
       "1139  2023-03-07    2230868    1722          0\n",
       "1140  2023-03-08    2235294    1722          0\n",
       "1141  2023-03-09    2235294    1722          0"
      ]
     },
     "execution_count": 15,
     "metadata": {},
     "output_type": "execute_result"
    }
   ],
   "source": [
    "df.tail()"
   ]
  },
  {
   "cell_type": "code",
   "execution_count": 5,
   "id": "e0517883",
   "metadata": {},
   "outputs": [],
   "source": [
    "# Convert the \"Date\" column to a datetime object\n",
    "df[\"Date\"] = pd.to_datetime(df[\"Date\"]).dt.date"
   ]
  },
  {
   "cell_type": "code",
   "execution_count": 6,
   "id": "381701c0",
   "metadata": {},
   "outputs": [],
   "source": [
    "# Group the data by date and calculate the cumulative sum of confirmed cases\n",
    "df = df.groupby(\"Date\").sum().reset_index()"
   ]
  },
  {
   "cell_type": "code",
   "execution_count": 8,
   "id": "765f1ea9",
   "metadata": {},
   "outputs": [],
   "source": [
    "# Convert the \"Date\" column to a numpy array\n",
    "dates = df[\"Date\"].values"
   ]
  },
  {
   "cell_type": "code",
   "execution_count": 19,
   "id": "aafa5b2c",
   "metadata": {},
   "outputs": [],
   "source": [
    "# Convert the cases to numpy arrays\n",
    "confirmed = df['Confirmed'].values\n",
    "deaths = df['Deaths'].values\n",
    "recovered = df['Recovered'].values"
   ]
  },
  {
   "cell_type": "code",
   "execution_count": 24,
   "id": "df86f95e",
   "metadata": {},
   "outputs": [
    {
     "data": {
      "image/png": "[encoded data removed]",
      "text/plain": [
       "<Figure size 432x288 with 1 Axes>"
      ]
     },
     "metadata": {
      "needs_background": "light"
     },
     "output_type": "display_data"
    }
   ],
   "source": [
    "# Create a line graph of the cumulative number of confirmed cases over time\n",
    "plt.xlabel(\"Date\")\n",
    "plt.ylabel(\"Cumulative Cases\")\n",
    "plt.title(\"COVID-19 Cases in Singapore\")\n",
    "plt.plot(dates, confirmed, label=\"Confirmed\")\n",
    "plt.legend()\n",
    "plt.show()"
   ]
  },
  {
   "cell_type": "code",
   "execution_count": 23,
   "id": "011fb5fb",
   "metadata": {},
   "outputs": [
    {
     "data": {
      "image/png": "[encoded data removed]",
      "text/plain": [
       "<Figure size 432x288 with 1 Axes>"
      ]
     },
     "metadata": {
      "needs_background": "light"
     },
     "output_type": "display_data"
    }
   ],
   "source": [
    "# Create a line graph of the cumulative number of deaths and recovered cases over time\n",
    "plt.xlabel(\"Date\")\n",
    "plt.ylabel(\"Cumulative Cases\")\n",
    "plt.title(\"COVID-19 Cases in Singapore\")\n",
    "plt.plot(dates, deaths, label=\"Deaths\")\n",
    "plt.plot(dates, recovered, label = \"recovered\")\n",
    "plt.legend()\n",
    "plt.show()"
   ]
  },
  {
   "cell_type": "code",
   "execution_count": null,
   "id": "bec8a1d7",
   "metadata": {},
   "outputs": [],
   "source": []
  }
 ],
 "metadata": {
  "kernelspec": {
   "display_name": "Python 3 (ipykernel)",
   "language": "python",
   "name": "python3"
  },
  "language_info": {
   "codemirror_mode": {
    "name": "ipython",
    "version": 3
   },
   "file_extension": ".py",
   "mimetype": "text/x-python",
   "name": "python",
   "nbconvert_exporter": "python",
   "pygments_lexer": "ipython3",
   "version": "3.9.12"
  }
 },
 "nbformat": 4,
 "nbformat_minor": 5
}
